{
 "cells": [
  {
   "cell_type": "code",
   "execution_count": 1,
   "metadata": {},
   "outputs": [],
   "source": [
    "import networkx as nx\n",
    "import matplotlib.pyplot as plt\n",
    "import random\n",
    "from math import log"
   ]
  },
  {
   "cell_type": "code",
   "execution_count": 21,
   "metadata": {},
   "outputs": [],
   "source": [
    "def read_graph(file_path, type='undirected'):\n",
    "    with open(file_path, 'r') as file:\n",
    "        n = int(file.readline().strip().split(\" \")[1])\n",
    "        for line in file:\n",
    "            if line[0] == '*':\n",
    "                break\n",
    "        if type == 'undirected':\n",
    "            G = [[] for _ in range(n)]\n",
    "            for line in file:\n",
    "                l = line.strip().split(\" \")\n",
    "                i = int(l[0])-1\n",
    "                j = int(l[1])-1\n",
    "                G[i].append(j) # from to - i is a predecessors of j\n",
    "                G[j].append(i) # to from - j is a successor of i\n",
    "\n",
    "        elif type == 'directed':\n",
    "            G = [([], []) for _ in range(n)]\n",
    "            for line in file:\n",
    "                l = line.strip().split(\" \")\n",
    "                i = int(l[0])-1\n",
    "                j = int(l[1])-1\n",
    "                G[i][1].append(j)\n",
    "                G[j][0].append(i)\n",
    "\n",
    "    return G"
   ]
  },
  {
   "cell_type": "markdown",
   "metadata": {},
   "source": [
    "## 3. Random node selection"
   ]
  },
  {
   "cell_type": "code",
   "execution_count": 27,
   "metadata": {},
   "outputs": [],
   "source": [
    "G = read_graph('karate_club.net')"
   ]
  },
  {
   "cell_type": "code",
   "execution_count": 38,
   "metadata": {},
   "outputs": [
    {
     "data": {
      "text/plain": [
       "27"
      ]
     },
     "execution_count": 38,
     "metadata": {},
     "output_type": "execute_result"
    }
   ],
   "source": [
    "def random_node(G):\n",
    "    node_idx = random.randint(0, len(G)-1)\n",
    "    neighbour_idx = random.randint(0, len(G[node_idx])-1)\n",
    "    return G[node_idx][neighbour_idx]\n",
    "random_node(G)"
   ]
  },
  {
   "cell_type": "markdown",
   "metadata": {},
   "source": [
    "## Problem 4: Weak & Strong connectivity"
   ]
  },
  {
   "cell_type": "code",
   "execution_count": 9,
   "metadata": {},
   "outputs": [],
   "source": [
    "def DFS(G, i, visited, direction, stack):\n",
    "    visited.add(i)\n",
    "    for neighbour in G[i][direction]:\n",
    "        if neighbour not in visited:\n",
    "            DFS(G, neighbour, visited, direction, stack)\n",
    "    stack.append(i)\n",
    "\n",
    "def find_scc(G):\n",
    "    visited = set()\n",
    "    stack = []\n",
    "    for node in range(len(G)): # visit every node\n",
    "        if node not in visited: # if it wasn't visited yet\n",
    "            DFS(G, node, visited, 0, stack)\n",
    "        #print(len(stack), len(visited))\n",
    "    visited.clear()\n",
    "    sccs = []\n",
    "    #print(stack)\n",
    "\n",
    "    while stack:\n",
    "        node = stack.pop()\n",
    "        if node not in visited:\n",
    "            #print(visited)\n",
    "            scc_stack = []\n",
    "            DFS(G, node, visited, 1, scc_stack)\n",
    "            sccs.append(scc_stack)\n",
    "            visited.update(scc_stack)\n",
    "    \n",
    "    return sccs\n",
    "\n",
    "G = read_graph('enron.net', 'directed')\n",
    "sccs = find_scc(G)\n",
    "\n",
    "len(sccs), len(max(sccs, key=lambda lst: len(lst)))"
   ]
  },
  {
   "cell_type": "code",
   "execution_count": 10,
   "metadata": {},
   "outputs": [
    {
     "data": {
      "text/plain": [
       "(78058, 9164)"
      ]
     },
     "execution_count": 10,
     "metadata": {},
     "output_type": "execute_result"
    }
   ],
   "source": [
    "G = read_graph('enron.net', 'directed')\n",
    "sccs = find_scc(G)\n",
    "\n",
    "len(sccs), len(max(sccs, key=lambda lst: len(lst)))"
   ]
  },
  {
   "cell_type": "code",
   "execution_count": 60,
   "metadata": {},
   "outputs": [
    {
     "data": {
      "text/plain": [
       "(78058, 9164)"
      ]
     },
     "execution_count": 60,
     "metadata": {},
     "output_type": "execute_result"
    }
   ],
   "source": [
    "G = nx.DiGraph(nx.read_pajek('enron.net'))\n",
    "components = nx.strongly_connected_components(G)\n",
    "\n",
    "largest_component = max(components, key=len)\n",
    "largest_component_size = len(largest_component)\n",
    "nx.number_strongly_connected_components(G), largest_component_size"
   ]
  },
  {
   "cell_type": "markdown",
   "metadata": {},
   "source": [
    "## 5. Is Java software scale-free?"
   ]
  },
  {
   "cell_type": "code",
   "execution_count": 20,
   "metadata": {},
   "outputs": [
    {
     "data": {
      "image/png": "[encoded data removed]",
      "text/plain": [
       "<Figure size 640x480 with 1 Axes>"
      ]
     },
     "metadata": {},
     "output_type": "display_data"
    }
   ],
   "source": [
    "def plot(G, ax, c, type=0):\n",
    "    nk = {}\n",
    "    if type == 0: # in/out degree\n",
    "        for _, k in G.degree():\n",
    "            if k not in nk:\n",
    "                nk[k] = 0\n",
    "            nk[k] += 1\n",
    "    elif type == 1:\n",
    "        for _, k in G.in_degree(): # change this to only in degrees\n",
    "            if k not in nk:\n",
    "                nk[k] = 0\n",
    "            nk[k] += 1\n",
    "    elif type == 2:\n",
    "        for _, k in G.out_degree(): # change this to only out degrees\n",
    "            if k not in nk:\n",
    "                nk[k] = 0\n",
    "            nk[k] += 1\n",
    "\n",
    "    ks = sorted(nk.keys())\n",
    "\n",
    "    ax.loglog(ks, [nk[k] / len(G) for k in ks], '*', color=c)\n",
    "    ax.set_xlabel('$k$')\n",
    "\n",
    "G = nx.DiGraph(nx.read_pajek('lucene.net'), name=\"lucene.net\")\n",
    "\n",
    "fig, ax = plt.subplots(1, 1, tight_layout=True)\n",
    "\n",
    "plot(G, ax, 'b', 0)\n",
    "plot(G, ax, 'r', 1)\n",
    "plot(G, ax, 'g', 2)\n",
    "ax.set_title(\"lucene.net degree distributions\")\n",
    "ax.set_ylabel('$p_k$')\n",
    "ax.legend(['in/out', 'in', 'out'])\n",
    "plt.show()"
   ]
  },
  {
   "cell_type": "code",
   "execution_count": 19,
   "metadata": {},
   "outputs": [
    {
     "data": {
      "text/plain": [
       "Text(0.5, 1.0, '$\\\\gamma$ at different degree cut offs')"
      ]
     },
     "execution_count": 19,
     "metadata": {},
     "output_type": "execute_result"
    },
    {
     "data": {
      "image/png": "[encoded data removed]",
      "text/plain": [
       "<Figure size 640x480 with 1 Axes>"
      ]
     },
     "metadata": {},
     "output_type": "display_data"
    }
   ],
   "source": [
    "def calc_gamma(G: nx.DiGraph, cut_off: int, type=0):\n",
    "    if type == 1:\n",
    "        degrees = [k for _, k in G.in_degree() if k > cut_off] \n",
    "    elif type == 2:\n",
    "        degrees = [k for _, k in G.out_degree() if k > cut_off] \n",
    "    else:\n",
    "        degrees = [k for _, k in G.degree() if k > cut_off]\n",
    "    if degrees:\n",
    "        k_min = min(degrees)\n",
    "        n_dot = len(degrees)\n",
    "    else:\n",
    "        return float('inf')\n",
    "    #print(k_min)\n",
    "    return 1+n_dot*sum([log(ki/(k_min - 1/2))*(ki >= k_min) for ki in degrees])**(-1)\n",
    "\n",
    "plt.plot([calc_gamma(G, i) for i in range(100)])\n",
    "plt.plot([calc_gamma(G, i, 1) for i in range(100)])\n",
    "plt.plot([calc_gamma(G, i, 2) for i in range(100)])\n",
    "plt.plot([0, 100], [2, 2], linestyle='dotted', c='black')\n",
    "plt.ylim([1, 3])\n",
    "plt.legend([\"all degrees\", \"in degrees\", \"out degrees\"])\n",
    "plt.title(\"$\\gamma$ at different degree cut offs\")"
   ]
  },
  {
   "cell_type": "code",
   "execution_count": 13,
   "metadata": {},
   "outputs": [
    {
     "name": "stdout",
     "output_type": "stream",
     "text": [
      "in/out degree:  2.471356639442119\n",
      "in degree:  1.7976323613898262\n",
      "out degree:  3.370638205209164\n"
     ]
    }
   ],
   "source": [
    "# min degree = 5 !! \n",
    "print(\"in/out degree: \", calc_gamma(G, 4))\n",
    "print(\"in degree: \", calc_gamma(G, 4, 1))\n",
    "print(\"out degree: \", calc_gamma(G, 4, 2))"
   ]
  },
  {
   "cell_type": "markdown",
   "metadata": {},
   "source": [
    "## Problem 6: Five networks problem\n",
    "\n",
    "- Flickr social affiliation network\n",
    "- IMDb actors collaboration network\n",
    "- Small part of a university Web graph\n",
    "- Sample of computer science citation network\n",
    "- Realization of the Erd ̈os-R ́enyi random graph"
   ]
  },
  {
   "cell_type": "code",
   "execution_count": 43,
   "metadata": {},
   "outputs": [
    {
     "name": "stdout",
     "output_type": "stream",
     "text": [
      "Network name\t network_1.adj\n",
      "Number of nodes\t 291934\n",
      "Number of edges\t 1399248\n",
      "Avarage degree\t 9.586057122500291\n",
      "Density\t\t 3.2836497150032e-05\n",
      "Max degree\t 10721 [10721, 7634, 7026, 4319, 4283]\n",
      "Pendant nodes\t 135333 0.46357395849746863\n",
      "\n",
      "Network name\t network_3.adj\n",
      "Number of nodes\t 94093\n",
      "Number of edges\t 766258\n",
      "Avarage degree\t 16.28724772299746\n",
      "Density\t\t 0.00017309917658246674\n",
      "Max degree\t 5311 [5311, 3266, 3173, 2927, 2775]\n",
      "Pendant nodes\t 27715 0.2945490100219995\n",
      "\n",
      "Network name\t network_4.adj\n",
      "Number of nodes\t 202275\n",
      "Number of edges\t 510180\n",
      "Avarage degree\t 5.044419725621061\n",
      "Density\t\t 2.4938547344794984e-05\n",
      "Max degree\t 2803 [2803, 2016, 735, 497, 493]\n",
      "Pendant nodes\t 101276 0.500684711407737\n",
      "\n",
      "Network name\t network_5.adj\n",
      "Number of nodes\t 83159\n",
      "Number of edges\t 5510251\n",
      "Avarage degree\t 132.52326266549622\n",
      "Density\t\t 0.0015936321540380508\n",
      "Max degree\t 3257 [3257, 3178, 3127, 3097, 2984]\n",
      "Pendant nodes\t 12 0.0001443018795319809\n",
      "\n"
     ]
    }
   ],
   "source": [
    "networks = ['network_1.adj', 'network_2.adj', 'network_3.adj', 'network_4.adj', 'network_5.adj']\n",
    "for net_name in networks:\n",
    "    with open(net_name, 'r') as file:\n",
    "        file.readline()\n",
    "        info = file.readline().strip().split(\" \")\n",
    "        n = int(info[1].replace(\",\", \"\"))\n",
    "        m = int(info[4].replace(\",\", \"\"))\n",
    "        file.readline()\n",
    "        file.readline()\n",
    "\n",
    "        type = 'edges'\n",
    "        mm = 0 \n",
    "        if type == 'edges':\n",
    "            G = [[] for _ in range(n)]\n",
    "            for line in file:\n",
    "                l = line.strip().split(\" \")\n",
    "                i = int(l[0])-1\n",
    "                j = int(l[1])-1\n",
    "                G[i].append(j) # from to - i is a predecessors of j\n",
    "                G[j].append(i) # to from - j is a successor of i\n",
    "                mm += 1\n",
    "\n",
    "        degrees = [len(neigh) for neigh in G]\n",
    "\n",
    "        print(\"Network name\\t\", net_name)\n",
    "        print(\"Number of nodes\\t\", n)\n",
    "        print(\"Number of edges\\t\", m)\n",
    "        print(\"Avarage degree\\t\", (2*m)/n)\n",
    "        print(\"Density\\t\\t\", (2*m/(n*(n-1))))\n",
    "        print(\"Max degree\\t\", max(degrees), sorted(degrees, reverse=True)[:5])\n",
    "        print(\"Pendant nodes\\t\", degrees.count(1), degrees.count(1)/n) \n",
    "\n",
    "        print(\"\")"
   ]
  },
  {
   "cell_type": "code",
   "execution_count": 3,
   "metadata": {},
   "outputs": [],
   "source": [
    "def read_graph(name):\n",
    "    G = nx.Graph(nx.read_edgelist(name))\n",
    "    #G = nx.convert_node_labels_to_integers(G, label_attribute=\"label\")\n",
    "    G.name = name\n",
    "    return G\n",
    "for net in networks:\n",
    "    G = read_graph('./'+net)\n",
    "    print(nx.average_clustering(nx.Graph(G)))"
   ]
  },
  {
   "cell_type": "code",
   "execution_count": 4,
   "metadata": {},
   "outputs": [
    {
     "name": "stdout",
     "output_type": "stream",
     "text": [
      "3.437215379691078e-05\n"
     ]
    }
   ],
   "source": [
    "G = read_graph('./'+'network_2.adj') #0.253 for net1, 0 for net3\n",
    "print(nx.average_clustering(nx.Graph(G)))"
   ]
  },
  {
   "cell_type": "code",
   "execution_count": 66,
   "metadata": {},
   "outputs": [
    {
     "name": "stdout",
     "output_type": "stream",
     "text": [
      "0.25394067066706016\n",
      "0.0\n",
      "0.07978452668214911\n"
     ]
    }
   ],
   "source": [
    "for net in networks:\n",
    "    G = read_graph('./'+net)\n",
    "    print(nx.average_clustering(nx.Graph(G)))"
   ]
  },
  {
   "cell_type": "markdown",
   "metadata": {},
   "source": [
    "Comments:\n",
    "- Looking at components is usless as they were filtered to only be the biggest component (so always 1, 1)\n",
    "- network 5 has abnormally big average degree\n",
    "- density is about similar, no distinction\n",
    "- look what graphs are directional, there are supposed to be 2 (web and some other)\n",
    "- there are no isolated nodes -> obv since theres only a full component\n",
    "- there are 2 graphs (net_1-46% and net_4-50%) with a large amount of pendant nodes -> sus for web and citation"
   ]
  },
  {
   "cell_type": "markdown",
   "metadata": {},
   "source": [
    "Sus:\n",
    "- Net_1 -> citation - larger amount of degrees + higher max degrees (and more of them)\n",
    "- Net_2 -> Realization of the Erd ̈os-R ́enyi random graph, because the max. degree is really small\n",
    "- Net_3 -> imdb or flickr - difference maker is avg degree, check clustering coef, think this is flicker\n",
    "- Net_4 -> small part of university web - lower amount of degrees and lower max degrees compared to net 1\n",
    "- Net_5 -> imdb or flicker - difference maker is avg degree, check clustering coef, think this is imdb - smaller but more connected network (nodes, density, avg degree)"
   ]
  }
 ],
 "metadata": {
  "kernelspec": {
   "display_name": "base",
   "language": "python",
   "name": "python3"
  },
  "language_info": {
   "codemirror_mode": {
    "name": "ipython",
    "version": 3
   },
   "file_extension": ".py",
   "mimetype": "text/x-python",
   "name": "python",
   "nbconvert_exporter": "python",
   "pygments_lexer": "ipython3",
   "version": "3.11.5"
  }
 },
 "nbformat": 4,
 "nbformat_minor": 2
}
