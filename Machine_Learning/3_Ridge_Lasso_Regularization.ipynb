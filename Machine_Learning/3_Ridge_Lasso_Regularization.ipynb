{
 "cells": [
  {
   "cell_type": "markdown",
   "metadata": {},
   "source": [
    "### **Assignment #3**"
   ]
  },
  {
   "cell_type": "markdown",
   "metadata": {},
   "source": [
    "In this assignment, you will learn about regularization methods. You will also implement the ridge regularization method using gradient descent and stochastic gradient\n",
    "descent and test it on \"Wine quality\" data.\n",
    "Be careful not to use the same data for training (any stage of training) and testing your\n",
    "model"
   ]
  },
  {
   "cell_type": "code",
   "execution_count": 1,
   "metadata": {},
   "outputs": [],
   "source": [
    "import pandas as pd\n",
    "import matplotlib.pyplot as plt\n",
    "import numpy as np\n",
    "from sklearn.linear_model import LinearRegression, LassoCV, RidgeCV\n",
    "from sklearn.metrics import mean_squared_error, r2_score\n"
   ]
  },
  {
   "cell_type": "markdown",
   "metadata": {},
   "source": [
    "Use the \"Communities and Crime\" dataset you used in the previous assignment with\n",
    "the same preprocessing."
   ]
  },
  {
   "cell_type": "markdown",
   "metadata": {},
   "source": [
    "The last column of the dataset (ViolentCrimesPerPop) is your target variable. Remove\n",
    "the attributes state, county, community, community name, and fold (columns 1 to 5).\n",
    "https://archive.ics.uci.edu/dataset/183/communities+and+crime"
   ]
  },
  {
   "cell_type": "code",
   "execution_count": 2,
   "metadata": {},
   "outputs": [
    {
     "data": {
      "text/plain": [
       "128"
      ]
     },
     "execution_count": 2,
     "metadata": {},
     "output_type": "execute_result"
    }
   ],
   "source": [
    "# scrap feature names from 'communities.names'\n",
    "attr_names = []\n",
    "with open('communities.names') as f:\n",
    "    for row in f:\n",
    "        if row[:len('@attribute')] == '@attribute':\n",
    "            attr_names.append(row.split(\" \")[1])\n",
    "len(attr_names)"
   ]
  },
  {
   "cell_type": "code",
   "execution_count": 3,
   "metadata": {},
   "outputs": [
    {
     "data": {
      "text/html": [
       "<div>\n",
       "<style scoped>\n",
       "    .dataframe tbody tr th:only-of-type {\n",
       "        vertical-align: middle;\n",
       "    }\n",
       "\n",
       "    .dataframe tbody tr th {\n",
       "        vertical-align: top;\n",
       "    }\n",
       "\n",
       "    .dataframe thead th {\n",
       "        text-align: right;\n",
       "    }\n",
       "</style>\n",
       "<table border=\"1\" class=\"dataframe\">\n",
       "  <thead>\n",
       "    <tr style=\"text-align: right;\">\n",
       "      <th></th>\n",
       "      <th>population</th>\n",
       "      <th>householdsize</th>\n",
       "      <th>racepctblack</th>\n",
       "      <th>racePctWhite</th>\n",
       "      <th>racePctAsian</th>\n",
       "      <th>racePctHisp</th>\n",
       "      <th>agePct12t21</th>\n",
       "      <th>agePct12t29</th>\n",
       "      <th>agePct16t24</th>\n",
       "      <th>agePct65up</th>\n",
       "      <th>...</th>\n",
       "      <th>PctForeignBorn</th>\n",
       "      <th>PctBornSameState</th>\n",
       "      <th>PctSameHouse85</th>\n",
       "      <th>PctSameCity85</th>\n",
       "      <th>PctSameState85</th>\n",
       "      <th>LandArea</th>\n",
       "      <th>PopDens</th>\n",
       "      <th>PctUsePubTrans</th>\n",
       "      <th>LemasPctOfficDrugUn</th>\n",
       "      <th>ViolentCrimesPerPop</th>\n",
       "    </tr>\n",
       "  </thead>\n",
       "  <tbody>\n",
       "    <tr>\n",
       "      <th>0</th>\n",
       "      <td>0.19</td>\n",
       "      <td>0.33</td>\n",
       "      <td>0.02</td>\n",
       "      <td>0.90</td>\n",
       "      <td>0.12</td>\n",
       "      <td>0.17</td>\n",
       "      <td>0.34</td>\n",
       "      <td>0.47</td>\n",
       "      <td>0.29</td>\n",
       "      <td>0.32</td>\n",
       "      <td>...</td>\n",
       "      <td>0.12</td>\n",
       "      <td>0.42</td>\n",
       "      <td>0.50</td>\n",
       "      <td>0.51</td>\n",
       "      <td>0.64</td>\n",
       "      <td>0.12</td>\n",
       "      <td>0.26</td>\n",
       "      <td>0.20</td>\n",
       "      <td>0.32</td>\n",
       "      <td>0.20</td>\n",
       "    </tr>\n",
       "    <tr>\n",
       "      <th>1</th>\n",
       "      <td>0.00</td>\n",
       "      <td>0.16</td>\n",
       "      <td>0.12</td>\n",
       "      <td>0.74</td>\n",
       "      <td>0.45</td>\n",
       "      <td>0.07</td>\n",
       "      <td>0.26</td>\n",
       "      <td>0.59</td>\n",
       "      <td>0.35</td>\n",
       "      <td>0.27</td>\n",
       "      <td>...</td>\n",
       "      <td>0.21</td>\n",
       "      <td>0.50</td>\n",
       "      <td>0.34</td>\n",
       "      <td>0.60</td>\n",
       "      <td>0.52</td>\n",
       "      <td>0.02</td>\n",
       "      <td>0.12</td>\n",
       "      <td>0.45</td>\n",
       "      <td>0.00</td>\n",
       "      <td>0.67</td>\n",
       "    </tr>\n",
       "    <tr>\n",
       "      <th>2</th>\n",
       "      <td>0.00</td>\n",
       "      <td>0.42</td>\n",
       "      <td>0.49</td>\n",
       "      <td>0.56</td>\n",
       "      <td>0.17</td>\n",
       "      <td>0.04</td>\n",
       "      <td>0.39</td>\n",
       "      <td>0.47</td>\n",
       "      <td>0.28</td>\n",
       "      <td>0.32</td>\n",
       "      <td>...</td>\n",
       "      <td>0.14</td>\n",
       "      <td>0.49</td>\n",
       "      <td>0.54</td>\n",
       "      <td>0.67</td>\n",
       "      <td>0.56</td>\n",
       "      <td>0.01</td>\n",
       "      <td>0.21</td>\n",
       "      <td>0.02</td>\n",
       "      <td>0.00</td>\n",
       "      <td>0.43</td>\n",
       "    </tr>\n",
       "    <tr>\n",
       "      <th>3</th>\n",
       "      <td>0.04</td>\n",
       "      <td>0.77</td>\n",
       "      <td>1.00</td>\n",
       "      <td>0.08</td>\n",
       "      <td>0.12</td>\n",
       "      <td>0.10</td>\n",
       "      <td>0.51</td>\n",
       "      <td>0.50</td>\n",
       "      <td>0.34</td>\n",
       "      <td>0.21</td>\n",
       "      <td>...</td>\n",
       "      <td>0.19</td>\n",
       "      <td>0.30</td>\n",
       "      <td>0.73</td>\n",
       "      <td>0.64</td>\n",
       "      <td>0.65</td>\n",
       "      <td>0.02</td>\n",
       "      <td>0.39</td>\n",
       "      <td>0.28</td>\n",
       "      <td>0.00</td>\n",
       "      <td>0.12</td>\n",
       "    </tr>\n",
       "    <tr>\n",
       "      <th>4</th>\n",
       "      <td>0.01</td>\n",
       "      <td>0.55</td>\n",
       "      <td>0.02</td>\n",
       "      <td>0.95</td>\n",
       "      <td>0.09</td>\n",
       "      <td>0.05</td>\n",
       "      <td>0.38</td>\n",
       "      <td>0.38</td>\n",
       "      <td>0.23</td>\n",
       "      <td>0.36</td>\n",
       "      <td>...</td>\n",
       "      <td>0.11</td>\n",
       "      <td>0.72</td>\n",
       "      <td>0.64</td>\n",
       "      <td>0.61</td>\n",
       "      <td>0.53</td>\n",
       "      <td>0.04</td>\n",
       "      <td>0.09</td>\n",
       "      <td>0.02</td>\n",
       "      <td>0.00</td>\n",
       "      <td>0.03</td>\n",
       "    </tr>\n",
       "  </tbody>\n",
       "</table>\n",
       "<p>5 rows × 101 columns</p>\n",
       "</div>"
      ],
      "text/plain": [
       "   population  householdsize  racepctblack  racePctWhite  racePctAsian  \\\n",
       "0        0.19           0.33          0.02          0.90          0.12   \n",
       "1        0.00           0.16          0.12          0.74          0.45   \n",
       "2        0.00           0.42          0.49          0.56          0.17   \n",
       "3        0.04           0.77          1.00          0.08          0.12   \n",
       "4        0.01           0.55          0.02          0.95          0.09   \n",
       "\n",
       "   racePctHisp  agePct12t21  agePct12t29  agePct16t24  agePct65up  ...  \\\n",
       "0         0.17         0.34         0.47         0.29        0.32  ...   \n",
       "1         0.07         0.26         0.59         0.35        0.27  ...   \n",
       "2         0.04         0.39         0.47         0.28        0.32  ...   \n",
       "3         0.10         0.51         0.50         0.34        0.21  ...   \n",
       "4         0.05         0.38         0.38         0.23        0.36  ...   \n",
       "\n",
       "   PctForeignBorn  PctBornSameState  PctSameHouse85  PctSameCity85  \\\n",
       "0            0.12              0.42            0.50           0.51   \n",
       "1            0.21              0.50            0.34           0.60   \n",
       "2            0.14              0.49            0.54           0.67   \n",
       "3            0.19              0.30            0.73           0.64   \n",
       "4            0.11              0.72            0.64           0.61   \n",
       "\n",
       "   PctSameState85  LandArea  PopDens  PctUsePubTrans  LemasPctOfficDrugUn  \\\n",
       "0            0.64      0.12     0.26            0.20                 0.32   \n",
       "1            0.52      0.02     0.12            0.45                 0.00   \n",
       "2            0.56      0.01     0.21            0.02                 0.00   \n",
       "3            0.65      0.02     0.39            0.28                 0.00   \n",
       "4            0.53      0.04     0.09            0.02                 0.00   \n",
       "\n",
       "   ViolentCrimesPerPop  \n",
       "0                 0.20  \n",
       "1                 0.67  \n",
       "2                 0.43  \n",
       "3                 0.12  \n",
       "4                 0.03  \n",
       "\n",
       "[5 rows x 101 columns]"
      ]
     },
     "execution_count": 3,
     "metadata": {},
     "output_type": "execute_result"
    }
   ],
   "source": [
    "# load data and add feature names\n",
    "data = pd.read_csv('communities.data', delimiter=',', header=None, names=attr_names)\n",
    "# remove the first 5 features as per instructions\n",
    "data = data.drop(data[['state', 'county', 'community', 'communityname', 'fold']], axis=1)\n",
    "# remove all features with a lot of missing data ('?')\n",
    "data = data.drop(data[[i for i in data if sum([1 if e == '?' else 0 for e in data.loc[:, i]]) > 10]], axis=1)\n",
    "# remove a single sample where data is still missing\n",
    "data = data.drop(130)\n",
    "data.head()"
   ]
  },
  {
   "cell_type": "code",
   "execution_count": 4,
   "metadata": {},
   "outputs": [],
   "source": [
    "# randomize samples\n",
    "data = data.sample(frac=1).reset_index(drop=True)\n",
    "# split data\n",
    "X = data[data.columns[range(100)]]\n",
    "Y = data[data.columns[[100]]]\n",
    "n = len(data)\n",
    "x_train = X[:int(n * 0.7)]\n",
    "x_test = X[int(n * 0.7):]\n",
    "y_train = Y[:int(n * 0.7)]\n",
    "y_test = Y[int(n * 0.7):]"
   ]
  },
  {
   "cell_type": "markdown",
   "metadata": {},
   "source": [
    "Fit models using ridge and lasso regression. Try different values of the regularization\n",
    "parameter and evaluate its effect. Choose the optimal regularization parameter. Use the Scikit-learn functions for ridge, lasso, and for the selection of the regularization\n",
    "parameter."
   ]
  },
  {
   "cell_type": "code",
   "execution_count": 5,
   "metadata": {},
   "outputs": [
    {
     "data": {
      "text/plain": [
       "(0.6457374076421771, 0.00011693643946646515)"
      ]
     },
     "execution_count": 5,
     "metadata": {},
     "output_type": "execute_result"
    }
   ],
   "source": [
    "lasso = LassoCV(cv=5).fit(x_train, y_train['ViolentCrimesPerPop'])\n",
    "pred_lass = lasso.predict(x_test)\n",
    "r2_score(y_test['ViolentCrimesPerPop'], pred_lass), lasso.alpha_"
   ]
  },
  {
   "cell_type": "code",
   "execution_count": 6,
   "metadata": {},
   "outputs": [
    {
     "data": {
      "text/plain": [
       "(0.6464393811990135, 1.0)"
      ]
     },
     "execution_count": 6,
     "metadata": {},
     "output_type": "execute_result"
    }
   ],
   "source": [
    "ridge = RidgeCV(cv=5).fit(x_train, y_train['ViolentCrimesPerPop'])\n",
    "pred_ridge = ridge.predict(x_test)\n",
    "r2_score(y_test['ViolentCrimesPerPop'], pred_ridge), ridge.alpha_"
   ]
  },
  {
   "cell_type": "code",
   "execution_count": 7,
   "metadata": {},
   "outputs": [],
   "source": [
    "def k_fold(k, X):\n",
    "    # X and Y have to be of the same length obviously\n",
    "    n = len(X)\n",
    "\n",
    "    f_size = n//k\n",
    "\n",
    "    index_list = [] # n=10, k=5, return: [(2:, :2), (:2 + 4:, 2:4), (:4 + 6:, 4:6), (:6 + 8:, 6:8), (:8, 8:)], where (train, test)\n",
    "\n",
    "    for i in range(k):\n",
    "        index_list.append(\n",
    "            (list(range(0, i*f_size)) + list(range((i+1)*f_size, n)),\n",
    "             list(range(i*f_size, (i+1)*f_size)))\n",
    "        )\n",
    "\n",
    "    return index_list\n",
    "\n",
    "def fw_feature_selection(x, y, k):\n",
    "    last_mse = 1000\n",
    "    selection = []\n",
    "    past_mses = []\n",
    "    \n",
    "    while True:\n",
    "        scores = [] \n",
    "        for attr in x.columns:\n",
    "            if attr not in selection:\n",
    "                sum_mse = 0\n",
    "                for train, test in k_fold(k, x):\n",
    "                    lr = LinearRegression().fit(x.loc[train][selection + [attr]], y.loc[train])\n",
    "                    pred = lr.predict(x.loc[test][selection + [attr]])\n",
    "                    sum_mse += mean_squared_error(y.loc[test], pred)\n",
    "                \n",
    "                scores.append((sum_mse/k, attr))\n",
    "\n",
    "        current_mse, min_attr = min(scores)\n",
    "\n",
    "        if current_mse >= last_mse:\n",
    "            break\n",
    "        else:\n",
    "            last_mse = current_mse\n",
    "            past_mses += [current_mse]\n",
    "            selection += [min_attr]\n",
    "        \n",
    "        if len(selection) == len(x.columns): # to avoid potential inf loop\n",
    "            break\n",
    "\n",
    "    return selection, past_mses"
   ]
  },
  {
   "cell_type": "code",
   "execution_count": 8,
   "metadata": {},
   "outputs": [],
   "source": [
    "selected, mses = fw_feature_selection(x_train, y_train, 5)"
   ]
  },
  {
   "cell_type": "code",
   "execution_count": 9,
   "metadata": {},
   "outputs": [
    {
     "data": {
      "image/png": "[encoded data removed]",
      "text/plain": [
       "<Figure size 640x480 with 1 Axes>"
      ]
     },
     "metadata": {},
     "output_type": "display_data"
    }
   ],
   "source": [
    "plt.plot(range(len(mses)), mses)\n",
    "plt.xlabel('Amount of features')\n",
    "plt.ylabel('Avarage MSE from k-fold')\n",
    "plt.title('Decrease of MSE with FW feature selection and k-fold')\n",
    "plt.show()"
   ]
  },
  {
   "cell_type": "markdown",
   "metadata": {},
   "source": [
    "Compare the results of the feature selection you implemented in the previous assignment with the attributes lasso selected."
   ]
  },
  {
   "cell_type": "code",
   "execution_count": 10,
   "metadata": {},
   "outputs": [],
   "source": [
    "tmp = LassoCV(cv=5).fit(x_train, y_train['ViolentCrimesPerPop'])\n",
    "#predicted = tmp.predict(x_test)\n",
    "koef = tmp.coef_\n",
    "tmpl = []\n",
    "for i, k in enumerate(koef):\n",
    "    if k != 0:\n",
    "        tmpl.append((abs(k), attr_names[i])) # abs ker isces relevanco, ce je sorazmerna al pa obratno sorazmerna nima veze\n",
    "lasso_selected = sorted(tmpl, reverse=True) # sorted, najbolj relevantni na začetku"
   ]
  },
  {
   "cell_type": "code",
   "execution_count": 11,
   "metadata": {},
   "outputs": [
    {
     "name": "stdout",
     "output_type": "stream",
     "text": [
      "Selected by my forward feature select: 30\n",
      "Selected by Lasso: 66\n",
      "The amount of features that match: 15\n"
     ]
    }
   ],
   "source": [
    "match = [name for e, name in lasso_selected if name in selected]\n",
    "print(f\"Selected by my forward feature select: {len(selected)}\\nSelected by Lasso: {len(lasso_selected)}\\nThe amount of features that match: {len(match)}\")"
   ]
  },
  {
   "cell_type": "markdown",
   "metadata": {},
   "source": [
    "Download the \"Wine quality\" dataset. Choose only the white wine data. Prepare\n",
    "your data for modeling. The data is available at https://archive.ics.uci.edu/dataset/186/wine+quality.\n",
    "You will be doing a regression of the wine quality grades (last column)."
   ]
  },
  {
   "cell_type": "code",
   "execution_count": 12,
   "metadata": {},
   "outputs": [
    {
     "data": {
      "text/html": [
       "<div>\n",
       "<style scoped>\n",
       "    .dataframe tbody tr th:only-of-type {\n",
       "        vertical-align: middle;\n",
       "    }\n",
       "\n",
       "    .dataframe tbody tr th {\n",
       "        vertical-align: top;\n",
       "    }\n",
       "\n",
       "    .dataframe thead th {\n",
       "        text-align: right;\n",
       "    }\n",
       "</style>\n",
       "<table border=\"1\" class=\"dataframe\">\n",
       "  <thead>\n",
       "    <tr style=\"text-align: right;\">\n",
       "      <th></th>\n",
       "      <th>intercept</th>\n",
       "      <th>fixed acidity</th>\n",
       "      <th>volatile acidity</th>\n",
       "      <th>citric acid</th>\n",
       "      <th>residual sugar</th>\n",
       "      <th>chlorides</th>\n",
       "      <th>free sulfur dioxide</th>\n",
       "      <th>total sulfur dioxide</th>\n",
       "      <th>density</th>\n",
       "      <th>pH</th>\n",
       "      <th>sulphates</th>\n",
       "      <th>alcohol</th>\n",
       "      <th>quality</th>\n",
       "    </tr>\n",
       "  </thead>\n",
       "  <tbody>\n",
       "    <tr>\n",
       "      <th>0</th>\n",
       "      <td>1</td>\n",
       "      <td>7.0</td>\n",
       "      <td>0.27</td>\n",
       "      <td>0.36</td>\n",
       "      <td>20.7</td>\n",
       "      <td>0.045</td>\n",
       "      <td>45.0</td>\n",
       "      <td>170.0</td>\n",
       "      <td>1.0010</td>\n",
       "      <td>3.00</td>\n",
       "      <td>0.45</td>\n",
       "      <td>8.8</td>\n",
       "      <td>6</td>\n",
       "    </tr>\n",
       "    <tr>\n",
       "      <th>1</th>\n",
       "      <td>1</td>\n",
       "      <td>6.3</td>\n",
       "      <td>0.30</td>\n",
       "      <td>0.34</td>\n",
       "      <td>1.6</td>\n",
       "      <td>0.049</td>\n",
       "      <td>14.0</td>\n",
       "      <td>132.0</td>\n",
       "      <td>0.9940</td>\n",
       "      <td>3.30</td>\n",
       "      <td>0.49</td>\n",
       "      <td>9.5</td>\n",
       "      <td>6</td>\n",
       "    </tr>\n",
       "    <tr>\n",
       "      <th>2</th>\n",
       "      <td>1</td>\n",
       "      <td>8.1</td>\n",
       "      <td>0.28</td>\n",
       "      <td>0.40</td>\n",
       "      <td>6.9</td>\n",
       "      <td>0.050</td>\n",
       "      <td>30.0</td>\n",
       "      <td>97.0</td>\n",
       "      <td>0.9951</td>\n",
       "      <td>3.26</td>\n",
       "      <td>0.44</td>\n",
       "      <td>10.1</td>\n",
       "      <td>6</td>\n",
       "    </tr>\n",
       "    <tr>\n",
       "      <th>3</th>\n",
       "      <td>1</td>\n",
       "      <td>7.2</td>\n",
       "      <td>0.23</td>\n",
       "      <td>0.32</td>\n",
       "      <td>8.5</td>\n",
       "      <td>0.058</td>\n",
       "      <td>47.0</td>\n",
       "      <td>186.0</td>\n",
       "      <td>0.9956</td>\n",
       "      <td>3.19</td>\n",
       "      <td>0.40</td>\n",
       "      <td>9.9</td>\n",
       "      <td>6</td>\n",
       "    </tr>\n",
       "    <tr>\n",
       "      <th>4</th>\n",
       "      <td>1</td>\n",
       "      <td>7.2</td>\n",
       "      <td>0.23</td>\n",
       "      <td>0.32</td>\n",
       "      <td>8.5</td>\n",
       "      <td>0.058</td>\n",
       "      <td>47.0</td>\n",
       "      <td>186.0</td>\n",
       "      <td>0.9956</td>\n",
       "      <td>3.19</td>\n",
       "      <td>0.40</td>\n",
       "      <td>9.9</td>\n",
       "      <td>6</td>\n",
       "    </tr>\n",
       "  </tbody>\n",
       "</table>\n",
       "</div>"
      ],
      "text/plain": [
       "   intercept  fixed acidity  volatile acidity  citric acid  residual sugar  \\\n",
       "0          1            7.0              0.27         0.36            20.7   \n",
       "1          1            6.3              0.30         0.34             1.6   \n",
       "2          1            8.1              0.28         0.40             6.9   \n",
       "3          1            7.2              0.23         0.32             8.5   \n",
       "4          1            7.2              0.23         0.32             8.5   \n",
       "\n",
       "   chlorides  free sulfur dioxide  total sulfur dioxide  density    pH  \\\n",
       "0      0.045                 45.0                 170.0   1.0010  3.00   \n",
       "1      0.049                 14.0                 132.0   0.9940  3.30   \n",
       "2      0.050                 30.0                  97.0   0.9951  3.26   \n",
       "3      0.058                 47.0                 186.0   0.9956  3.19   \n",
       "4      0.058                 47.0                 186.0   0.9956  3.19   \n",
       "\n",
       "   sulphates  alcohol  quality  \n",
       "0       0.45      8.8        6  \n",
       "1       0.49      9.5        6  \n",
       "2       0.44     10.1        6  \n",
       "3       0.40      9.9        6  \n",
       "4       0.40      9.9        6  "
      ]
     },
     "execution_count": 12,
     "metadata": {},
     "output_type": "execute_result"
    }
   ],
   "source": [
    "data_wine = pd.read_csv('winequality-white.csv', delimiter=';')\n",
    "data_wine['intercept'] = 1\n",
    "data_wine = data_wine[['intercept'] + data_wine.columns.to_list()[:12]]\n",
    "citric = data_wine['citric acid']\n",
    "data_wine.head()"
   ]
  },
  {
   "cell_type": "code",
   "execution_count": 13,
   "metadata": {},
   "outputs": [
    {
     "data": {
      "text/html": [
       "<div>\n",
       "<style scoped>\n",
       "    .dataframe tbody tr th:only-of-type {\n",
       "        vertical-align: middle;\n",
       "    }\n",
       "\n",
       "    .dataframe tbody tr th {\n",
       "        vertical-align: top;\n",
       "    }\n",
       "\n",
       "    .dataframe thead th {\n",
       "        text-align: right;\n",
       "    }\n",
       "</style>\n",
       "<table border=\"1\" class=\"dataframe\">\n",
       "  <thead>\n",
       "    <tr style=\"text-align: right;\">\n",
       "      <th></th>\n",
       "      <th>intercept</th>\n",
       "      <th>fixed acidity</th>\n",
       "      <th>volatile acidity</th>\n",
       "      <th>citric acid</th>\n",
       "      <th>residual sugar</th>\n",
       "      <th>chlorides</th>\n",
       "      <th>free sulfur dioxide</th>\n",
       "      <th>total sulfur dioxide</th>\n",
       "      <th>density</th>\n",
       "      <th>pH</th>\n",
       "      <th>sulphates</th>\n",
       "      <th>alcohol</th>\n",
       "      <th>quality</th>\n",
       "    </tr>\n",
       "  </thead>\n",
       "  <tbody>\n",
       "    <tr>\n",
       "      <th>0</th>\n",
       "      <td>1</td>\n",
       "      <td>0.172097</td>\n",
       "      <td>-0.081770</td>\n",
       "      <td>0.213280</td>\n",
       "      <td>2.821349</td>\n",
       "      <td>-0.035355</td>\n",
       "      <td>0.569932</td>\n",
       "      <td>0.744565</td>\n",
       "      <td>2.331512</td>\n",
       "      <td>-1.246921</td>\n",
       "      <td>-0.349184</td>\n",
       "      <td>-1.393152</td>\n",
       "      <td>0.13787</td>\n",
       "    </tr>\n",
       "    <tr>\n",
       "      <th>1</th>\n",
       "      <td>1</td>\n",
       "      <td>-0.657501</td>\n",
       "      <td>0.215896</td>\n",
       "      <td>0.048001</td>\n",
       "      <td>-0.944765</td>\n",
       "      <td>0.147747</td>\n",
       "      <td>-1.253019</td>\n",
       "      <td>-0.149685</td>\n",
       "      <td>-0.009154</td>\n",
       "      <td>0.740029</td>\n",
       "      <td>0.001342</td>\n",
       "      <td>-0.824276</td>\n",
       "      <td>0.13787</td>\n",
       "    </tr>\n",
       "    <tr>\n",
       "      <th>2</th>\n",
       "      <td>1</td>\n",
       "      <td>1.475751</td>\n",
       "      <td>0.017452</td>\n",
       "      <td>0.543838</td>\n",
       "      <td>0.100282</td>\n",
       "      <td>0.193523</td>\n",
       "      <td>-0.312141</td>\n",
       "      <td>-0.973336</td>\n",
       "      <td>0.358665</td>\n",
       "      <td>0.475102</td>\n",
       "      <td>-0.436816</td>\n",
       "      <td>-0.336667</td>\n",
       "      <td>0.13787</td>\n",
       "    </tr>\n",
       "    <tr>\n",
       "      <th>3</th>\n",
       "      <td>1</td>\n",
       "      <td>0.409125</td>\n",
       "      <td>-0.478657</td>\n",
       "      <td>-0.117278</td>\n",
       "      <td>0.415768</td>\n",
       "      <td>0.559727</td>\n",
       "      <td>0.687541</td>\n",
       "      <td>1.121091</td>\n",
       "      <td>0.525855</td>\n",
       "      <td>0.011480</td>\n",
       "      <td>-0.787342</td>\n",
       "      <td>-0.499203</td>\n",
       "      <td>0.13787</td>\n",
       "    </tr>\n",
       "    <tr>\n",
       "      <th>4</th>\n",
       "      <td>1</td>\n",
       "      <td>0.409125</td>\n",
       "      <td>-0.478657</td>\n",
       "      <td>-0.117278</td>\n",
       "      <td>0.415768</td>\n",
       "      <td>0.559727</td>\n",
       "      <td>0.687541</td>\n",
       "      <td>1.121091</td>\n",
       "      <td>0.525855</td>\n",
       "      <td>0.011480</td>\n",
       "      <td>-0.787342</td>\n",
       "      <td>-0.499203</td>\n",
       "      <td>0.13787</td>\n",
       "    </tr>\n",
       "  </tbody>\n",
       "</table>\n",
       "</div>"
      ],
      "text/plain": [
       "   intercept  fixed acidity  volatile acidity  citric acid  residual sugar  \\\n",
       "0          1       0.172097         -0.081770     0.213280        2.821349   \n",
       "1          1      -0.657501          0.215896     0.048001       -0.944765   \n",
       "2          1       1.475751          0.017452     0.543838        0.100282   \n",
       "3          1       0.409125         -0.478657    -0.117278        0.415768   \n",
       "4          1       0.409125         -0.478657    -0.117278        0.415768   \n",
       "\n",
       "   chlorides  free sulfur dioxide  total sulfur dioxide   density        pH  \\\n",
       "0  -0.035355             0.569932              0.744565  2.331512 -1.246921   \n",
       "1   0.147747            -1.253019             -0.149685 -0.009154  0.740029   \n",
       "2   0.193523            -0.312141             -0.973336  0.358665  0.475102   \n",
       "3   0.559727             0.687541              1.121091  0.525855  0.011480   \n",
       "4   0.559727             0.687541              1.121091  0.525855  0.011480   \n",
       "\n",
       "   sulphates   alcohol  quality  \n",
       "0  -0.349184 -1.393152  0.13787  \n",
       "1   0.001342 -0.824276  0.13787  \n",
       "2  -0.436816 -0.336667  0.13787  \n",
       "3  -0.787342 -0.499203  0.13787  \n",
       "4  -0.787342 -0.499203  0.13787  "
      ]
     },
     "execution_count": 13,
     "metadata": {},
     "output_type": "execute_result"
    }
   ],
   "source": [
    "for feat in data_wine.columns.to_list()[1:]:\n",
    "    feat_data = data_wine[feat]\n",
    "    data_wine[feat] = (feat_data - np.mean(feat_data))/np.std(feat_data)\n",
    "\n",
    "data_wine.head()"
   ]
  },
  {
   "cell_type": "code",
   "execution_count": 14,
   "metadata": {},
   "outputs": [],
   "source": [
    "# shuffle data\n",
    "data_wine = data_wine.sample(frac=1).reset_index(drop=True)\n",
    "# split data\n",
    "n = len(data_wine)\n",
    "wine_train = data_wine.loc[:int(n * 0.7)]\n",
    "wine_test = data_wine.loc[int(n * 0.7):]\n",
    "\n",
    "w_x_train = wine_train.drop(wine_train[['quality']], axis=1)\n",
    "w_y_train = wine_train['quality']\n",
    "\n",
    "w_x_test = wine_test.drop(wine_test[['quality']], axis=1)\n",
    "w_y_test = wine_test['quality']"
   ]
  },
  {
   "cell_type": "code",
   "execution_count": 15,
   "metadata": {},
   "outputs": [
    {
     "name": "stdout",
     "output_type": "stream",
     "text": [
      "MSE: 0.7572281522899893, R2: 0.26743085032506997\n"
     ]
    }
   ],
   "source": [
    "lr = LinearRegression().fit(w_x_train, w_y_train)\n",
    "pred = lr.predict(w_x_test)\n",
    "mse = mean_squared_error(w_y_test, pred)\n",
    "r2 = r2_score(w_y_test, pred)\n",
    "print(f\"MSE: {mse}, R2: {r2}\")"
   ]
  },
  {
   "cell_type": "markdown",
   "metadata": {},
   "source": [
    "Implement ridge regression with:\n",
    "- gradient descent\n",
    "- stochastic gradient descent\n",
    "\n",
    "and test it on the \"Wine quality\" data. It is expected that the gradient descent is implemented from scratch. You can check\n",
    "out these [slides](https://courses.cs.washington.edu/courses/cse446/17wi/slides/ridgeregression-annotated.pdf)."
   ]
  },
  {
   "cell_type": "code",
   "execution_count": 16,
   "metadata": {},
   "outputs": [],
   "source": [
    "def ridge_regression(x, y, beta, alpha, num_of_iter=1000, l_rate=0.3, stoh=False):\n",
    "\n",
    "    loss_hist = []\n",
    "\n",
    "    for _ in range(num_of_iter):\n",
    "        if not stoh:\n",
    "            pred = x @ beta\n",
    "            err = y - pred\n",
    "            ridge_loss = err.T @ err + alpha*(beta.T @ beta)\n",
    "            loss_hist.append(ridge_loss)\n",
    "            gradient = -2/len(x) * (x.T @ err) + alpha*beta\n",
    "            beta = beta - l_rate * gradient\n",
    "        else:\n",
    "            indices = np.arange(0, len(x))\n",
    "            np.random.shuffle(indices)\n",
    "            for i in indices:\n",
    "                pred = x @ beta\n",
    "                err = y - pred\n",
    "                ridge_loss = err.T @ err + alpha*(beta.T @ beta)\n",
    "                loss_hist.append(ridge_loss)\n",
    "\n",
    "                gradient = -2/len(x) * (x.loc[i] * (y.loc[i] - (x.loc[i] @ beta))) + alpha*beta\n",
    "                beta = beta - l_rate * gradient\n",
    "                #print(gradient)\n",
    "\n",
    "        if len(loss_hist) > 5: # stop if loss starts getting worse \n",
    "            if abs(loss_hist[-5] - ridge_loss) < 0.01:\n",
    "                break\n",
    "        \n",
    "    return beta, loss_hist\n"
   ]
  },
  {
   "cell_type": "markdown",
   "metadata": {},
   "source": [
    "Test different learning rates and try to find the optimal one. Compare the time to convergence and the results of the two gradient descents you\n",
    "implemented."
   ]
  },
  {
   "cell_type": "code",
   "execution_count": 21,
   "metadata": {},
   "outputs": [
    {
     "name": "stdout",
     "output_type": "stream",
     "text": [
      "R2: 0.2712003103287156; Iteration: 355\n",
      "R2: 0.27496213231700717; Iteration: 3901\n",
      "R2: 0.2715186306030193; Iteration: 8650\n"
     ]
    },
    {
     "data": {
      "image/png": "[encoded data removed]",
      "text/plain": [
       "<Figure size 640x480 with 1 Axes>"
      ]
     },
     "metadata": {},
     "output_type": "display_data"
    }
   ],
   "source": [
    "learning_rates = [0.3, 0.003, 0.0003]\n",
    "for l_rate in learning_rates:\n",
    "    beta = np.array([0]*12)\n",
    "    beta, loss_h = ridge_regression(w_x_train, w_y_train, beta, 0.005, 10000, l_rate, stoh=False)\n",
    "    plt.plot(loss_h)\n",
    "    print(f\"R2: {r2_score(w_y_test, w_x_test @ beta)}; Iteration: {len(loss_h)}\")\n",
    "plt.title(\"Ridge loss with different learning rates (normal descent)\")\n",
    "plt.xlabel(\"Iterations\")\n",
    "plt.ylabel(\"Ridge loss\")\n",
    "plt.legend(learning_rates)\n",
    "plt.show()"
   ]
  },
  {
   "cell_type": "code",
   "execution_count": 27,
   "metadata": {},
   "outputs": [
    {
     "name": "stdout",
     "output_type": "stream",
     "text": [
      "R2: 0.16476949109085726, Iteration: 7.0 (x 3429)\n"
     ]
    },
    {
     "data": {
      "image/png": "[encoded data removed]",
      "text/plain": [
       "<Figure size 640x480 with 1 Axes>"
      ]
     },
     "metadata": {},
     "output_type": "display_data"
    }
   ],
   "source": [
    "beta = np.array([0]*12)\n",
    "beta, loss_h = ridge_regression(w_x_train, w_y_train, beta, 0.001, 7, 0.2, stoh=True)\n",
    "print(f\"R2: {r2_score(w_y_test, w_x_test @ beta)}, Iteration: {len(loss_h)/len(w_x_train)} (x {len(w_x_train)})\")\n",
    "plt.plot(loss_h)\n",
    "plt.title(\"Ridge loss (stochastic descent)\")\n",
    "plt.xlabel(\"Iterations\")\n",
    "plt.ylabel(\"Ridge loss\")\n",
    "plt.show()"
   ]
  }
 ],
 "metadata": {
  "kernelspec": {
   "display_name": "Python 3",
   "language": "python",
   "name": "python3"
  },
  "language_info": {
   "codemirror_mode": {
    "name": "ipython",
    "version": 3
   },
   "file_extension": ".py",
   "mimetype": "text/x-python",
   "name": "python",
   "nbconvert_exporter": "python",
   "pygments_lexer": "ipython3",
   "version": "3.12.0"
  }
 },
 "nbformat": 4,
 "nbformat_minor": 2
}
