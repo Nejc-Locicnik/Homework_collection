{
 "cells": [
  {
   "cell_type": "markdown",
   "metadata": {},
   "source": [
    "### **Assignment #7-8**"
   ]
  },
  {
   "cell_type": "markdown",
   "metadata": {},
   "source": [
    "In this assignment, you will familiarize yourself with a typical neural network training\n",
    "and evaluation workflow. You will construct a dataset framework for batched training,\n",
    "create your own implementations of common neural network operations, and train\n",
    "your model on the Fashion-MNIST dataset. You will accomplish this in the PyTorch\n",
    "environment. To use PyTorch install the API on your local machine.¸\n"
   ]
  },
  {
   "cell_type": "code",
   "execution_count": 1,
   "metadata": {},
   "outputs": [],
   "source": [
    "import numpy as np\n",
    "import matplotlib.pyplot as plt\n",
    "import torch\n",
    "import pandas as pd\n",
    "import random\n",
    "from torch.utils.data import Dataset, DataLoader\n",
    "import torch.nn"
   ]
  },
  {
   "cell_type": "code",
   "execution_count": 2,
   "metadata": {},
   "outputs": [],
   "source": [
    "def load_mnist(path, kind='train'):\n",
    "    import os\n",
    "    import gzip\n",
    "    import numpy as np\n",
    "\n",
    "    \"\"\"Load MNIST data from `path`\"\"\"\n",
    "    labels_path = os.path.join(path,\n",
    "                               '%s-labels-idx1-ubyte.gz'\n",
    "                               % kind)\n",
    "    images_path = os.path.join(path,\n",
    "                               '%s-images-idx3-ubyte.gz'\n",
    "                               % kind)\n",
    "\n",
    "    with gzip.open(labels_path, 'rb') as lbpath:\n",
    "        labels = np.frombuffer(lbpath.read(), dtype=np.uint8,\n",
    "                               offset=8)\n",
    "\n",
    "    with gzip.open(images_path, 'rb') as imgpath:\n",
    "        images = np.frombuffer(imgpath.read(), dtype=np.uint8,\n",
    "                               offset=16).reshape(len(labels), 784)\n",
    "\n",
    "    return images, labels"
   ]
  },
  {
   "cell_type": "markdown",
   "metadata": {},
   "source": [
    "\n",
    "First, load the Fashion-MNIST dataset from the Fashion-MNIST GitHub repository.\n",
    "Use the provided utils.mnist_reader class to load the training data, which should\n",
    "contain 60000 training samples. Then, normalize the training sample values to the\n",
    "range [0, 1] and visualize one random member from each of the 10 classes.\n"
   ]
  },
  {
   "cell_type": "markdown",
   "metadata": {},
   "source": [
    "\n",
    "Split the data into two subsets: a training subset and a validation subset, where the\n",
    "latter constitutes of 20 percent random samples from the entire data set. Reshape the\n",
    "sample data in both subsets such that each sample corresponds to a two-dimensional\n",
    "image with a single channel. The dimensions of each subset should be equal to\n",
    "[N, 1, 28, 28], where N denotes the total number of samples in the subset. Convert\n",
    "both the samples and the labels of both subsets to PyTorch Tensors, where you\n",
    "additionally transform the class labels to one-hot encodings.\n"
   ]
  },
  {
   "cell_type": "code",
   "execution_count": 284,
   "metadata": {},
   "outputs": [],
   "source": [
    "X_train, y_train = load_mnist('', kind='train')\n",
    "X_test, y_test = load_mnist('', kind='t10k')\n",
    "x_train = X_train.reshape((60000, 1, 28, 28))/255.0 #\n",
    "labels = np.zeros((60000, 10))\n",
    "labels[np.arange(60000), y_train] = 1 # one-hot\n",
    "split = int(len(x_train)*0.2)\n",
    "train_samples = torch.Tensor(x_train[:-split])\n",
    "train_labels = torch.Tensor(labels[:-split])\n",
    "val_samples = torch.Tensor(x_train[-split:])\n",
    "val_labels = torch.Tensor(labels[-split:])\n",
    "\n",
    "x_test = X_test.reshape((10000, 1, 28, 28))/255.0 #\n",
    "labels2 = np.zeros((10000, 10))\n",
    "labels2[np.arange(10000), y_test] = 1 # one-hot\n",
    "test_samples = torch.Tensor(x_test)\n",
    "test_labels = torch.Tensor(labels2)"
   ]
  },
  {
   "cell_type": "code",
   "execution_count": 285,
   "metadata": {},
   "outputs": [],
   "source": [
    "labels_map = [\"t-shirt/top\", \"trousers\", \"pullover\", \"dress\", \"coat\", \"sandal\", \"shirt\", \"sneaker\", \"bag\", \"ankle boot\"]"
   ]
  },
  {
   "cell_type": "code",
   "execution_count": 286,
   "metadata": {},
   "outputs": [
    {
     "data": {
      "image/png": "[encoded data removed]",
      "text/plain": [
       "<Figure size 640x480 with 10 Axes>"
      ]
     },
     "metadata": {},
     "output_type": "display_data"
    }
   ],
   "source": [
    "i = 1\n",
    "for idx in [1, 16, 5, 3, 19, 8, 18, 6, 23, 0]:\n",
    "    plt.subplot(2, 5, i)\n",
    "    i+=1\n",
    "    plt.imshow(x_train[idx][0], 'gray')\n",
    "    plt.axis('off')\n",
    "    plt.title(labels_map[y_train[idx]])\n",
    "plt.show()"
   ]
  },
  {
   "cell_type": "markdown",
   "metadata": {},
   "source": [
    " Then, define the\n",
    "following Python class and fill out its class methods:"
   ]
  },
  {
   "cell_type": "code",
   "execution_count": 225,
   "metadata": {},
   "outputs": [],
   "source": [
    "class Dataset():\n",
    "    def __init__(self, samples, labels, batch_size, shuffle):\n",
    "        self.samples = samples\n",
    "        self.labels = labels\n",
    "        self.batch_size = batch_size\n",
    "        self.indexes = list(range(len(self.samples)))\n",
    "        if shuffle:\n",
    "            self.shuffle()\n",
    "\n",
    "    def __getitem__(self, index):\n",
    "        start = index * self.batch_size\n",
    "        end = (index + 1) * self.batch_size\n",
    "        batch_indexes = self.indexes[start:end]\n",
    "        batch_samples = self.samples[batch_indexes]\n",
    "        batch_labels = self.labels[batch_indexes]\n",
    "        return batch_samples, batch_labels\n",
    "\n",
    "    def __len__(self):\n",
    "         return (len(self.samples) + self.batch_size - 1) // self.batch_size\n",
    "\n",
    "    def shuffle(self):\n",
    "        random.shuffle(self.indexes)"
   ]
  },
  {
   "cell_type": "code",
   "execution_count": 226,
   "metadata": {},
   "outputs": [
    {
     "data": {
      "text/plain": [
       "(torch.Size([16, 1, 28, 28]), torch.float32)"
      ]
     },
     "execution_count": 226,
     "metadata": {},
     "output_type": "execute_result"
    }
   ],
   "source": [
    "data = Dataset(train_samples, train_labels, 16, True)\n",
    "\n",
    "data[0][0].shape, data[0][0].dtype"
   ]
  },
  {
   "cell_type": "markdown",
   "metadata": {},
   "source": [
    "Now, we will implement three basic operations that will serve as the backbone of our\n",
    "classification neural network. These operations are: two-dimensional convolution,\n",
    "two-dimensional max pooling, and the element-wise Linear Rectified Unit.\n",
    "\n",
    "Use the class constructors to do the necessary function orchestration and implement\n",
    "the actual operation of the input sample x in the forward method. For more details\n",
    "on the individual functions and their arguments consult the PyTorch documentation: Conv2d, MaxPool2d, ReLU. The convolution and maximal pooling operations should provide no padding to the input.\n",
    "\n",
    "Use the dataset implementation from the previous exercises to test your model.\n",
    "Do not use the PyTorch implementations of these functions (torch.nn.Conv2d,\n",
    "torch.nn.MaxPool2d, torch.nn.ReLU) instead of implementing the functions yourselves!"
   ]
  },
  {
   "cell_type": "code",
   "execution_count": 253,
   "metadata": {},
   "outputs": [
    {
     "name": "stdout",
     "output_type": "stream",
     "text": [
      "torch.Size([16, 676, 9])\n",
      "torch.Size([64, 9])\n",
      "torch.Size([16, 676, 64])\n"
     ]
    }
   ],
   "source": [
    "# testing out shapes\n",
    "a = torch.randn(16, 676, 9)\n",
    "b = torch.randn(64, 9)\n",
    "print(a.size())\n",
    "print(b.size())\n",
    "res = torch.matmul(a, b.t())\n",
    "print(res.size())"
   ]
  },
  {
   "cell_type": "code",
   "execution_count": 263,
   "metadata": {},
   "outputs": [],
   "source": [
    "class Conv2d(torch.nn.Module):\n",
    "    def __init__(self, in_channels, out_channels, kernel_size, stride, test=False):\n",
    "        super().__init__()\n",
    "        self.in_c = in_channels\n",
    "        self.out_c = out_channels\n",
    "        self.k_s = kernel_size\n",
    "        self.stride = stride\n",
    "        self.test = test\n",
    "\n",
    "        self.weight = torch.nn.Parameter(torch.randn(out_channels, in_channels, kernel_size, kernel_size))\n",
    "        self.bias = torch.nn.Parameter(torch.randn(out_channels))\n",
    "        \n",
    "\n",
    "    def forward(self, x):\n",
    "        batch_size, tmp, input_height, input_width = x.size()\n",
    "\n",
    "        output_height = (input_height - self.k_s) // self.stride + 1\n",
    "        output_width = (input_width - self.k_s) // self.stride + 1\n",
    "        \n",
    "        unfolded = torch.nn.functional.unfold(x, self.k_s, padding=0, stride=self.stride).transpose(1, 2)\n",
    "\n",
    "        output = torch.matmul(unfolded, self.weight.reshape(self.out_c, -1).t()) + self.bias\n",
    "\n",
    "        out1 = output.transpose(1, 2).reshape(batch_size, self.out_c, output_height, output_width)\n",
    "\n",
    "        if self.test:\n",
    "            out2 = torch.nn.functional.conv2d(x, self.weight, bias=self.bias, stride=self.stride, padding=0)\n",
    "            return out1, out2\n",
    "        else:\n",
    "            return out1\n",
    "    \n",
    "class MaxPool2d(torch.nn.Module):\n",
    "    def __init__(self, kernel_size, stride, test=False):\n",
    "        super().__init__()\n",
    "\n",
    "        self.test = test\n",
    "        self.k_s = kernel_size\n",
    "        self.stride = stride\n",
    "\n",
    "    def forward(self, x):\n",
    "        batch_size, channels, input_height, input_width = x.size()\n",
    "\n",
    "        output_height = (input_height - self.k_s) // self.stride + 1\n",
    "        output_width = (input_width - self.k_s) // self.stride + 1\n",
    "\n",
    "        unfolded = torch.nn.functional.unfold(x, self.k_s, padding=0, stride=self.stride)\n",
    "\n",
    "        output, _ = unfolded.reshape(batch_size, channels, self.k_s*self.k_s, -1).max(dim=2)\n",
    "\n",
    "        out1 = output.reshape(batch_size, channels, output_height, output_width)\n",
    "        if self.test:\n",
    "            return out1, torch.nn.functional.max_pool2d(x, kernel_size=self.k_s, stride=self.stride, padding=0)\n",
    "        else:\n",
    "            return out1\n",
    "\n",
    "class ReLU(torch.nn.Module):\n",
    "    def __init__(self, test=False):\n",
    "        super().__init__()\n",
    "        self.test = test\n",
    "\n",
    "    def forward(self, x):\n",
    "        # Apply element-wise ReLU activation\n",
    "        if self.test:\n",
    "            return x.clamp_(min=0.0), torch.nn.functional.relu(x)\n",
    "        else:\n",
    "            return x.clamp_(min=0.0)\n",
    "        "
   ]
  },
  {
   "cell_type": "markdown",
   "metadata": {},
   "source": [
    "After you have completed each function’s implementation make sure that\n",
    "they perform the same as their PyTorch counterparts: torch.nn.Conv2d,\n",
    "torch.nn.MaxPool2d, and torch.nn.ReLU. Pass the same input through the corresponding functions and observe the pixel-wise absolute difference. The maximal\n",
    "difference should be smaller than $10^{-5}$\n",
    ". When comparing the convolution operations\n",
    "make sure that both functions contain the same weight and bias tensors (the weight\n",
    "and bias property of the convolution class)."
   ]
  },
  {
   "cell_type": "code",
   "execution_count": 266,
   "metadata": {},
   "outputs": [
    {
     "data": {
      "text/plain": [
       "True"
      ]
     },
     "execution_count": 266,
     "metadata": {},
     "output_type": "execute_result"
    }
   ],
   "source": [
    "conv = Conv2d(1, 64, 3, 1, test=True)\n",
    "t1, t2 = conv.forward(data[0][0])\n",
    "torch.allclose(t1,t2, rtol=1e-5, atol=1e-5)"
   ]
  },
  {
   "cell_type": "code",
   "execution_count": 267,
   "metadata": {},
   "outputs": [
    {
     "data": {
      "text/plain": [
       "True"
      ]
     },
     "execution_count": 267,
     "metadata": {},
     "output_type": "execute_result"
    }
   ],
   "source": [
    "m = MaxPool2d(3, 2, test=True)\n",
    "tm1, tm2 = m.forward(data[0][0])\n",
    "torch.allclose(tm1,tm2, rtol=1e-5, atol=1e-5)"
   ]
  },
  {
   "cell_type": "code",
   "execution_count": 268,
   "metadata": {},
   "outputs": [
    {
     "data": {
      "text/plain": [
       "True"
      ]
     },
     "execution_count": 268,
     "metadata": {},
     "output_type": "execute_result"
    }
   ],
   "source": [
    "r = ReLU(test=True)\n",
    "tr1, tr2 = r.forward(data[0][0])\n",
    "torch.allclose(tr1, tr2, rtol=1e-5, atol=1e-5)"
   ]
  },
  {
   "cell_type": "code",
   "execution_count": 269,
   "metadata": {},
   "outputs": [
    {
     "name": "stdout",
     "output_type": "stream",
     "text": [
      "------------------------  ------------  ------------  ------------  ------------  ------------  ------------  \n",
      "                    Name    Self CPU %      Self CPU   CPU total %     CPU total  CPU time avg    # of Calls  \n",
      "------------------------  ------------  ------------  ------------  ------------  ------------  ------------  \n",
      "            forward_pass        25.93%       2.352ms       100.00%       9.069ms       9.069ms             1  \n",
      "            aten::im2col        31.41%       2.849ms        35.29%       3.200ms       3.200ms             1  \n",
      "            aten::matmul         1.80%     163.000us        33.42%       3.031ms       3.031ms             1  \n",
      "           aten::reshape         0.61%      55.000us        19.79%       1.795ms     598.333us             3  \n",
      "             aten::clone         0.20%      18.000us        18.34%       1.663ms       1.663ms             1  \n",
      "             aten::copy_        17.86%       1.620ms        17.86%       1.620ms       1.620ms             1  \n",
      "                aten::mm        12.48%       1.132ms        12.49%       1.133ms       1.133ms             1  \n",
      "               aten::add         3.12%     283.000us         3.12%     283.000us     283.000us             1  \n",
      "            aten::select         2.36%     214.000us         2.81%     255.000us       7.969us            32  \n",
      "         aten::transpose         0.79%      72.000us         1.12%     102.000us      34.000us             3  \n",
      "------------------------  ------------  ------------  ------------  ------------  ------------  ------------  \n",
      "Self CPU time total: 9.069ms\n",
      "\n"
     ]
    }
   ],
   "source": [
    "import torch.profiler as profiler\n",
    "custom_conv = Conv2d(64, 64, 3, 1)\n",
    "\n",
    "# Create dummy input tensor\n",
    "dummy_input = torch.randn(16, 64, 12, 12)\n",
    "\n",
    "# Run a forward pass inside the profiler\n",
    "with profiler.profile(record_shapes=True, use_cuda=False) as prof:\n",
    "    with profiler.record_function(\"forward_pass\"):\n",
    "        output = custom_conv(dummy_input)\n",
    "\n",
    "# Print the profiling results\n",
    "print(prof.key_averages().table(sort_by=\"cpu_time_total\", row_limit=10))"
   ]
  },
  {
   "cell_type": "markdown",
   "metadata": {},
   "source": [
    "For this exercise, use the classes you constructed in the previous exercises.\n",
    "\n",
    "We will briefly examine how the ordering of operations inside the neural network\n",
    "affects the output. We will look at the specific case of MaxPool2d and ReLU commutativity. Create a PyTorch tensor with random elements in the range [−1, 1] of\n",
    "dimensions [1, 100, 100]. Pass the tensor through two different transformations individually:\n",
    "\n",
    "- Function one: MaxPool2d(kernel_size = 3, stride = 2) followed by ReLU\n",
    "- Function two: ReLU followed by MaxPool2d(kernel_size = 3, stride = 2)\n",
    "\n",
    "Compare the outputs of the two sets. What did you observe? Explain the obtained\n",
    "results mathematically and think about the implications of this observation. Is the\n",
    "same true if we replace the maximal pooling operation with a convolution?"
   ]
  },
  {
   "cell_type": "code",
   "execution_count": 270,
   "metadata": {},
   "outputs": [
    {
     "data": {
      "text/plain": [
       "(torch.Size([1, 1, 100, 100]), tensor(-0.9999), tensor(0.9999))"
      ]
     },
     "execution_count": 270,
     "metadata": {},
     "output_type": "execute_result"
    }
   ],
   "source": [
    "input_tensor = torch.rand(1, 1, 100, 100)*2 - 1\n",
    "input_tensor.size(), input_tensor.min(), input_tensor.max()"
   ]
  },
  {
   "cell_type": "code",
   "execution_count": 271,
   "metadata": {},
   "outputs": [
    {
     "data": {
      "text/plain": [
       "True"
      ]
     },
     "execution_count": 271,
     "metadata": {},
     "output_type": "execute_result"
    }
   ],
   "source": [
    "r = ReLU()\n",
    "m = MaxPool2d(3, 2)\n",
    "out1 = r.forward(m.forward(input_tensor))\n",
    "out2 = m.forward(r.forward(input_tensor))\n",
    "torch.allclose(out1, out2) # ???"
   ]
  },
  {
   "cell_type": "code",
   "execution_count": 272,
   "metadata": {},
   "outputs": [
    {
     "data": {
      "text/plain": [
       "False"
      ]
     },
     "execution_count": 272,
     "metadata": {},
     "output_type": "execute_result"
    }
   ],
   "source": [
    "r = ReLU()\n",
    "c = Conv2d(1, 64, 3, 1)\n",
    "out1 = r.forward(c.forward(input_tensor))\n",
    "out2 = c.forward(r.forward(input_tensor))\n",
    "torch.allclose(out1, out2) # ???"
   ]
  },
  {
   "cell_type": "markdown",
   "metadata": {},
   "source": [
    "For this exercise, use the classes you constructed in the previous exercises.\n",
    "\n",
    "Now, we will define a neural network using the custom functions from previous exercises. This network will produce a vector of 10 elements for each sample, predicting\n",
    "the class it belongs to. Our neural network will consist of the following basic blocks:\n",
    "- Conv2d followed by MaxPool2d followed by ReLU\n",
    "\n",
    "There should be two such blocks in your network, one following the other. The kernel size of both the convolution and maximal pooling layers in both blocks should\n",
    "be equal to 3. The output of the second block should be a tensor with the following\n",
    "dimensions: [B, 64, 4, 4], where B is the batch size and 64 is the number of channels.\n",
    "You have to determine the appropriate remaining hyperparameters for the blocks to\n",
    "produce an output of such shape.\n",
    "\n",
    "Finally, your model should end with a single convolution layer with a kernel_size\n",
    "of 4 which will produce 10 output channels. The output of this layer should therefore be a tensor with a dimension equal to [B, 10, 1, 1]. Apply a flatten operation\n",
    "(torch.nn.Flatten) on the last layer’s output to generate the output of size: [B, 10].\n",
    "\n",
    "Create the same neural network architecture, but use the built-in PyTorch classes:\n",
    "torch.nn.Conv2d, torch.nn.MaxPool2d, torch.nn.ReLU.\n",
    "\n",
    "- Use the torch.nn.Sequential module to store the functions into one operation!"
   ]
  },
  {
   "cell_type": "code",
   "execution_count": 273,
   "metadata": {},
   "outputs": [],
   "source": [
    "from torch import nn\n",
    "class MyModel(nn.Module):\n",
    "    def __init__(self):\n",
    "        super().__init__()\n",
    "\n",
    "        self.network = nn.Sequential(\n",
    "            Conv2d(1, 64, 3, 1),\n",
    "            MaxPool2d(3, 2),\n",
    "            ReLU(),\n",
    "            Conv2d(64, 64, 3, 1),\n",
    "            MaxPool2d(3, 2),\n",
    "            ReLU(),\n",
    "            Conv2d(64, 10, 4, 1),\n",
    "            nn.Flatten(),\n",
    "        )\n",
    "\n",
    "    def forward(self, x):\n",
    "        x = self.network(x)\n",
    "\n",
    "        return x\n",
    "\n",
    "class TorchModel(nn.Module):\n",
    "    def __init__(self):\n",
    "        super().__init__()\n",
    "\n",
    "        self.network = nn.Sequential(\n",
    "            nn.Conv2d(1, 64, 3, 1),\n",
    "            nn.MaxPool2d(3, 2),\n",
    "            nn.ReLU(),\n",
    "            nn.Conv2d(64, 64, 3, 1),\n",
    "            nn.MaxPool2d(3, 2),\n",
    "            nn.ReLU(),\n",
    "            nn.Conv2d(64, 10, 4, 1),\n",
    "            nn.Flatten(),\n",
    "        )\n",
    "\n",
    "    def forward(self, x):\n",
    "        x = self.network(x)\n",
    "\n",
    "        return x"
   ]
  },
  {
   "cell_type": "markdown",
   "metadata": {},
   "source": [
    "For this exercise, use the models you constructed in the previous exercises.\n",
    "Lets put it all together! Using the Stochastic Gradient Descent algorithm and the\n",
    "Cross-Entropy loss function define a function fit, which takes in two parameters: the\n",
    "model you wish to fit and the number of epochs, denoting the number of times you\n",
    "will iterate over the training and validation datasets.\n",
    "\n",
    "Train both models from the previous exercise (your custom model and the PyTorch\n",
    "equivalent) for 10 epochs. The fit function should return the model that best performed on the validation dataset during training and a list of 10 training and validation losses, one for each epoch.\n",
    "\n",
    "Visualize the training and validation losses for all 10 epochs and both models. Is\n",
    "there a difference in performance? Account for the various potential sources of these\n",
    "differences.\n",
    "\n",
    "- You can use the torch.optim.SGD and torch.nn.CrossEntropyLoss classes for the Stochastic Gradient Descent and the Cross-Entropy loss function.\n",
    "- Be careful that you select the best model at the end of each epoch and not when you iterate through all the epochs."
   ]
  },
  {
   "cell_type": "code",
   "execution_count": 274,
   "metadata": {},
   "outputs": [
    {
     "name": "stdout",
     "output_type": "stream",
     "text": [
      "Doing epoch num.0 ...Done\n",
      "Doing epoch num.1 ...Done\n",
      "Doing epoch num.2 ...Done\n",
      "Doing epoch num.3 ...Done\n",
      "Doing epoch num.4 ...Done\n",
      "Doing epoch num.5 ...Done\n",
      "Doing epoch num.6 ...Done\n",
      "Doing epoch num.7 ...Done\n",
      "Doing epoch num.8 ...Done\n",
      "Doing epoch num.9 ...Done\n",
      "Doing epoch num.0 ...Done\n",
      "Doing epoch num.1 ...Done\n",
      "Doing epoch num.2 ...Done\n",
      "Doing epoch num.3 ...Done\n",
      "Doing epoch num.4 ...Done\n",
      "Doing epoch num.5 ...Done\n",
      "Doing epoch num.6 ...Done\n",
      "Doing epoch num.7 ...Done\n",
      "Doing epoch num.8 ...Done\n",
      "Doing epoch num.9 ...Done\n"
     ]
    }
   ],
   "source": [
    "import torch\n",
    "from torch.optim import SGD\n",
    "from torch.nn import CrossEntropyLoss\n",
    "\n",
    "def fit(model, num_epochs=10):\n",
    "    train_losses = []\n",
    "    val_losses = []\n",
    "    best_model_state = None\n",
    "    best_val_loss = float('inf')\n",
    "  \n",
    "    train_data = Dataset(train_samples, train_labels, batch_size=64, shuffle=True)\n",
    "    train_loader = DataLoader(train_data, batch_size=None, shuffle=True)\n",
    "\n",
    "    val_data = Dataset(val_samples, val_labels, batch_size=64, shuffle=False)\n",
    "    val_loader = DataLoader(val_data, batch_size=None, shuffle=False)\n",
    "\n",
    "    # Optimizer and Loss function\n",
    "    optimizer = SGD(model.parameters(), lr=0.01, momentum=0.9)\n",
    "    criterion = CrossEntropyLoss()\n",
    "\n",
    "    for epoch in range(num_epochs):\n",
    "        print(f\"Doing epoch num.{epoch} .\", end='')\n",
    "        model.train()\n",
    "        epoch_train_loss = 0.0\n",
    "        #i = 0\n",
    "        for inputs, labels in train_loader:\n",
    "            #print(i)\n",
    "            #i+=1\n",
    "            #print(inputs.size())\n",
    "            optimizer.zero_grad()\n",
    "            outputs = model(inputs)\n",
    "            loss = criterion(outputs, labels)\n",
    "            loss.backward()\n",
    "            optimizer.step()\n",
    "            epoch_train_loss += loss.item()\n",
    "        print(\".\", end='')\n",
    "        avg_train_loss = epoch_train_loss / len(train_loader)\n",
    "        train_losses.append(avg_train_loss)\n",
    "\n",
    "        # Validation\n",
    "        model.eval()\n",
    "        epoch_val_loss = 0.0\n",
    "\n",
    "        with torch.no_grad():\n",
    "            for inputs, labels in val_loader:\n",
    "                outputs = model(inputs)\n",
    "                loss = criterion(outputs, labels)\n",
    "                epoch_val_loss += loss.item()\n",
    "\n",
    "        avg_val_loss = epoch_val_loss / len(val_loader)\n",
    "        val_losses.append(avg_val_loss)\n",
    "        print(\".\", end='')\n",
    "\n",
    "        if avg_val_loss < best_val_loss:\n",
    "            best_val_loss = avg_val_loss\n",
    "            best_model_state = model.state_dict()\n",
    "        print(\"Done\")\n",
    "\n",
    "    model.load_state_dict(best_model_state)\n",
    "\n",
    "    return model, train_losses, val_losses\n",
    "\n",
    "t_model = TorchModel()\n",
    "best_torch_model, torch_train_losses, torch_val_losses = fit(t_model, num_epochs=10)\n",
    "my_model = MyModel()\n",
    "my_b_model, my_train_loss, my_val_loss = fit(my_model, 10)"
   ]
  },
  {
   "cell_type": "code",
   "execution_count": 278,
   "metadata": {},
   "outputs": [
    {
     "data": {
      "text/plain": [
       "([0.6602731881936391,\n",
       "  0.41807279203335446,\n",
       "  0.3675984105269114,\n",
       "  0.3360014565885067,\n",
       "  0.31389804467558863,\n",
       "  0.2975240952670574,\n",
       "  0.2844753702580929,\n",
       "  0.2781060575445493,\n",
       "  0.26550968622167903,\n",
       "  0.25815950279434524],\n",
       " [0.45036236196756363,\n",
       "  0.4166291538388171,\n",
       "  0.3461497738323313,\n",
       "  0.33744469709060293,\n",
       "  0.3317629360851455,\n",
       "  0.30740716601622864,\n",
       "  0.3176419599813984,\n",
       "  0.29403726336486796,\n",
       "  0.3270004951652694,\n",
       "  0.31844388356709735])"
      ]
     },
     "execution_count": 278,
     "metadata": {},
     "output_type": "execute_result"
    }
   ],
   "source": [
    "torch_train_losses, torch_val_losses"
   ]
  },
  {
   "cell_type": "code",
   "execution_count": 277,
   "metadata": {},
   "outputs": [
    {
     "data": {
      "text/plain": [
       "([25.148781372070314,\n",
       "  2.303018072128296,\n",
       "  2.3029838879903157,\n",
       "  2.3030125099817913,\n",
       "  2.3028563203811645,\n",
       "  2.3030741504033405,\n",
       "  2.3030727682113645,\n",
       "  2.3030004634857177,\n",
       "  2.3029848108291624,\n",
       "  2.302921337445577],\n",
       " [2.303063284843526,\n",
       "  2.3026263853336904,\n",
       "  2.303208475417279,\n",
       "  2.303325541475986,\n",
       "  2.3034122713068697,\n",
       "  2.3029482161745114,\n",
       "  2.303098720438937,\n",
       "  2.30262154974836,\n",
       "  2.3027704117145946,\n",
       "  2.30387186243179])"
      ]
     },
     "execution_count": 277,
     "metadata": {},
     "output_type": "execute_result"
    }
   ],
   "source": [
    "my_train_loss, my_val_loss"
   ]
  },
  {
   "cell_type": "code",
   "execution_count": 279,
   "metadata": {},
   "outputs": [
    {
     "data": {
      "image/png": "[encoded data removed]",
      "text/plain": [
       "<Figure size 1000x600 with 2 Axes>"
      ]
     },
     "metadata": {},
     "output_type": "display_data"
    }
   ],
   "source": [
    "import matplotlib.pyplot as plt\n",
    "\n",
    "fig, ax = plt.subplots(1, 2, figsize=(10, 6))\n",
    "plt.subplot(1, 2, 1)\n",
    "plt.plot(torch_train_losses)\n",
    "plt.plot(torch_val_losses)\n",
    "plt.title(\"PyTorch Model\")\n",
    "plt.subplot(1, 2, 2)\n",
    "plt.plot(my_train_loss)\n",
    "plt.plot(my_val_loss)\n",
    "plt.title(\"My Model\")\n",
    "plt.show()"
   ]
  },
  {
   "cell_type": "code",
   "execution_count": null,
   "metadata": {},
   "outputs": [],
   "source": [
    "comment = \"\"\"I think the difference is in how the initial weights and bias are set? We tested above\n",
    "            that at the same weights and bias the results of both my implementation and torches is the same.\"\"\""
   ]
  },
  {
   "cell_type": "markdown",
   "metadata": {},
   "source": [
    "**BONUS:**\n",
    "\n",
    "For this exercise, use the fit function and dataset class you constructed in the previous\n",
    "exercises.\n",
    "\n",
    "Create a custom neural network model using PyTorch functions and fit the model to\n",
    "the training data. Optimize the neural network hyperparameters (number of layers,\n",
    "kernel size, etc...) to get the best results on the validation dataset.\n",
    "Evaluate your prediction on the validation dataset using the performance.plot_stats\n",
    "function (included in the assignment materials) which takes as input your model’s\n",
    "predictions and the corresponding correct labels (both in one-hot encoding format\n",
    "and numpy ndarrays). The output of the function is the image titled stats.png, containing the class confusion matrix, and the macro recall and macro precision values\n",
    "for each class.\n",
    "\n",
    "Explain the results you observe. What is the most challenging class to classify? Why"
   ]
  },
  {
   "cell_type": "code",
   "execution_count": 289,
   "metadata": {},
   "outputs": [
    {
     "name": "stdout",
     "output_type": "stream",
     "text": [
      "tensor([[ -4.4712,  -8.7544,  -3.2057,  ...,   6.4506,   1.7348,  11.0716],\n",
      "        [  5.2410,  -3.0861,   9.7634,  ..., -10.4980,  -1.2854,  -6.7243],\n",
      "        [  0.9716,  14.9135,  -2.1789,  ..., -11.4993,   4.0475,  -6.6052],\n",
      "        ...,\n",
      "        [  1.4615,  -5.6534,   0.8813,  ...,  -6.5904,  10.3054,  -6.9298],\n",
      "        [ -0.7380,  11.8201,  -3.1907,  ...,  -6.0135,  -0.9243,  -4.1491],\n",
      "        [ -1.5073,  -5.3268,   0.6376,  ...,   3.9032,   1.5289,  -0.7953]])\n"
     ]
    }
   ],
   "source": [
    "import performance as p\n",
    "#test_data = Dataset(test_samples, test_labels, batch_size=64, shuffle=False)\n",
    "#test_loader = DataLoader(test_data, batch_size=None, shuffle=False)\n",
    "\n",
    "best_torch_model.eval()\n",
    "\n",
    "with torch.no_grad():\n",
    "    predictions = best_torch_model(test_samples)\n",
    "    print(predictions)\n"
   ]
  },
  {
   "cell_type": "code",
   "execution_count": 290,
   "metadata": {},
   "outputs": [
    {
     "data": {
      "text/plain": [
       "torch.Size([10000, 10])"
      ]
     },
     "execution_count": 290,
     "metadata": {},
     "output_type": "execute_result"
    }
   ],
   "source": [
    "predictions.size()"
   ]
  },
  {
   "cell_type": "code",
   "execution_count": 292,
   "metadata": {},
   "outputs": [],
   "source": [
    "p.plot_stats(predictions, test_labels, labels_map)"
   ]
  },
  {
   "cell_type": "code",
   "execution_count": null,
   "metadata": {},
   "outputs": [],
   "source": []
  }
 ],
 "metadata": {
  "kernelspec": {
   "display_name": "base",
   "language": "python",
   "name": "python3"
  },
  "language_info": {
   "codemirror_mode": {
    "name": "ipython",
    "version": 3
   },
   "file_extension": ".py",
   "mimetype": "text/x-python",
   "name": "python",
   "nbconvert_exporter": "python",
   "pygments_lexer": "ipython3",
   "version": "3.11.5"
  }
 },
 "nbformat": 4,
 "nbformat_minor": 2
}
